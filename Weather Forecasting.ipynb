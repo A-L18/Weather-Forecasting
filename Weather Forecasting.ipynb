{
 "cells": [
  {
   "cell_type": "code",
   "execution_count": 11,
   "id": "5ddfb6d3",
   "metadata": {},
   "outputs": [],
   "source": [
    "import pandas as pd\n",
    "import numpy as np\n",
    "import seaborn as sns\n",
    "import matplotlib.pyplot as plt\n",
    "import warnings\n",
    "warnings.filterwarnings('ignore')"
   ]
  },
  {
   "cell_type": "code",
   "execution_count": 13,
   "id": "032b163d",
   "metadata": {},
   "outputs": [],
   "source": [
    "df=pd.read_csv(\"weatherAUS.csv\")"
   ]
  },
  {
   "cell_type": "code",
   "execution_count": 14,
   "id": "01fbab3d",
   "metadata": {},
   "outputs": [
    {
     "data": {
      "text/html": [
       "<div>\n",
       "<style scoped>\n",
       "    .dataframe tbody tr th:only-of-type {\n",
       "        vertical-align: middle;\n",
       "    }\n",
       "\n",
       "    .dataframe tbody tr th {\n",
       "        vertical-align: top;\n",
       "    }\n",
       "\n",
       "    .dataframe thead th {\n",
       "        text-align: right;\n",
       "    }\n",
       "</style>\n",
       "<table border=\"1\" class=\"dataframe\">\n",
       "  <thead>\n",
       "    <tr style=\"text-align: right;\">\n",
       "      <th></th>\n",
       "      <th>Date</th>\n",
       "      <th>Location</th>\n",
       "      <th>MinTemp</th>\n",
       "      <th>MaxTemp</th>\n",
       "      <th>Rainfall</th>\n",
       "      <th>Evaporation</th>\n",
       "      <th>Sunshine</th>\n",
       "      <th>WindGustDir</th>\n",
       "      <th>WindGustSpeed</th>\n",
       "      <th>WindDir9am</th>\n",
       "      <th>WindDir3pm</th>\n",
       "      <th>WindSpeed9am</th>\n",
       "      <th>WindSpeed3pm</th>\n",
       "      <th>Humidity9am</th>\n",
       "      <th>Humidity3pm</th>\n",
       "      <th>Pressure9am</th>\n",
       "      <th>Pressure3pm</th>\n",
       "      <th>Cloud9am</th>\n",
       "      <th>Cloud3pm</th>\n",
       "      <th>Temp9am</th>\n",
       "      <th>Temp3pm</th>\n",
       "      <th>RainToday</th>\n",
       "      <th>RainTomorrow</th>\n",
       "    </tr>\n",
       "  </thead>\n",
       "  <tbody>\n",
       "    <tr>\n",
       "      <th>0</th>\n",
       "      <td>2008-12-01</td>\n",
       "      <td>Albury</td>\n",
       "      <td>13.4</td>\n",
       "      <td>22.9</td>\n",
       "      <td>0.6</td>\n",
       "      <td>NaN</td>\n",
       "      <td>NaN</td>\n",
       "      <td>W</td>\n",
       "      <td>44.0</td>\n",
       "      <td>W</td>\n",
       "      <td>WNW</td>\n",
       "      <td>20.0</td>\n",
       "      <td>24.0</td>\n",
       "      <td>71.0</td>\n",
       "      <td>22.0</td>\n",
       "      <td>1007.7</td>\n",
       "      <td>1007.1</td>\n",
       "      <td>8.0</td>\n",
       "      <td>NaN</td>\n",
       "      <td>16.9</td>\n",
       "      <td>21.8</td>\n",
       "      <td>No</td>\n",
       "      <td>No</td>\n",
       "    </tr>\n",
       "    <tr>\n",
       "      <th>1</th>\n",
       "      <td>2008-12-02</td>\n",
       "      <td>Albury</td>\n",
       "      <td>7.4</td>\n",
       "      <td>25.1</td>\n",
       "      <td>0.0</td>\n",
       "      <td>NaN</td>\n",
       "      <td>NaN</td>\n",
       "      <td>WNW</td>\n",
       "      <td>44.0</td>\n",
       "      <td>NNW</td>\n",
       "      <td>WSW</td>\n",
       "      <td>4.0</td>\n",
       "      <td>22.0</td>\n",
       "      <td>44.0</td>\n",
       "      <td>25.0</td>\n",
       "      <td>1010.6</td>\n",
       "      <td>1007.8</td>\n",
       "      <td>NaN</td>\n",
       "      <td>NaN</td>\n",
       "      <td>17.2</td>\n",
       "      <td>24.3</td>\n",
       "      <td>No</td>\n",
       "      <td>No</td>\n",
       "    </tr>\n",
       "    <tr>\n",
       "      <th>2</th>\n",
       "      <td>2008-12-03</td>\n",
       "      <td>Albury</td>\n",
       "      <td>12.9</td>\n",
       "      <td>25.7</td>\n",
       "      <td>0.0</td>\n",
       "      <td>NaN</td>\n",
       "      <td>NaN</td>\n",
       "      <td>WSW</td>\n",
       "      <td>46.0</td>\n",
       "      <td>W</td>\n",
       "      <td>WSW</td>\n",
       "      <td>19.0</td>\n",
       "      <td>26.0</td>\n",
       "      <td>38.0</td>\n",
       "      <td>30.0</td>\n",
       "      <td>1007.6</td>\n",
       "      <td>1008.7</td>\n",
       "      <td>NaN</td>\n",
       "      <td>2.0</td>\n",
       "      <td>21.0</td>\n",
       "      <td>23.2</td>\n",
       "      <td>No</td>\n",
       "      <td>No</td>\n",
       "    </tr>\n",
       "    <tr>\n",
       "      <th>3</th>\n",
       "      <td>2008-12-04</td>\n",
       "      <td>Albury</td>\n",
       "      <td>9.2</td>\n",
       "      <td>28.0</td>\n",
       "      <td>0.0</td>\n",
       "      <td>NaN</td>\n",
       "      <td>NaN</td>\n",
       "      <td>NE</td>\n",
       "      <td>24.0</td>\n",
       "      <td>SE</td>\n",
       "      <td>E</td>\n",
       "      <td>11.0</td>\n",
       "      <td>9.0</td>\n",
       "      <td>45.0</td>\n",
       "      <td>16.0</td>\n",
       "      <td>1017.6</td>\n",
       "      <td>1012.8</td>\n",
       "      <td>NaN</td>\n",
       "      <td>NaN</td>\n",
       "      <td>18.1</td>\n",
       "      <td>26.5</td>\n",
       "      <td>No</td>\n",
       "      <td>No</td>\n",
       "    </tr>\n",
       "    <tr>\n",
       "      <th>4</th>\n",
       "      <td>2008-12-05</td>\n",
       "      <td>Albury</td>\n",
       "      <td>17.5</td>\n",
       "      <td>32.3</td>\n",
       "      <td>1.0</td>\n",
       "      <td>NaN</td>\n",
       "      <td>NaN</td>\n",
       "      <td>W</td>\n",
       "      <td>41.0</td>\n",
       "      <td>ENE</td>\n",
       "      <td>NW</td>\n",
       "      <td>7.0</td>\n",
       "      <td>20.0</td>\n",
       "      <td>82.0</td>\n",
       "      <td>33.0</td>\n",
       "      <td>1010.8</td>\n",
       "      <td>1006.0</td>\n",
       "      <td>7.0</td>\n",
       "      <td>8.0</td>\n",
       "      <td>17.8</td>\n",
       "      <td>29.7</td>\n",
       "      <td>No</td>\n",
       "      <td>No</td>\n",
       "    </tr>\n",
       "  </tbody>\n",
       "</table>\n",
       "</div>"
      ],
      "text/plain": [
       "         Date Location  MinTemp  MaxTemp  Rainfall  Evaporation  Sunshine  \\\n",
       "0  2008-12-01   Albury     13.4     22.9       0.6          NaN       NaN   \n",
       "1  2008-12-02   Albury      7.4     25.1       0.0          NaN       NaN   \n",
       "2  2008-12-03   Albury     12.9     25.7       0.0          NaN       NaN   \n",
       "3  2008-12-04   Albury      9.2     28.0       0.0          NaN       NaN   \n",
       "4  2008-12-05   Albury     17.5     32.3       1.0          NaN       NaN   \n",
       "\n",
       "  WindGustDir  WindGustSpeed WindDir9am WindDir3pm  WindSpeed9am  \\\n",
       "0           W           44.0          W        WNW          20.0   \n",
       "1         WNW           44.0        NNW        WSW           4.0   \n",
       "2         WSW           46.0          W        WSW          19.0   \n",
       "3          NE           24.0         SE          E          11.0   \n",
       "4           W           41.0        ENE         NW           7.0   \n",
       "\n",
       "   WindSpeed3pm  Humidity9am  Humidity3pm  Pressure9am  Pressure3pm  Cloud9am  \\\n",
       "0          24.0         71.0         22.0       1007.7       1007.1       8.0   \n",
       "1          22.0         44.0         25.0       1010.6       1007.8       NaN   \n",
       "2          26.0         38.0         30.0       1007.6       1008.7       NaN   \n",
       "3           9.0         45.0         16.0       1017.6       1012.8       NaN   \n",
       "4          20.0         82.0         33.0       1010.8       1006.0       7.0   \n",
       "\n",
       "   Cloud3pm  Temp9am  Temp3pm RainToday RainTomorrow  \n",
       "0       NaN     16.9     21.8        No           No  \n",
       "1       NaN     17.2     24.3        No           No  \n",
       "2       2.0     21.0     23.2        No           No  \n",
       "3       NaN     18.1     26.5        No           No  \n",
       "4       8.0     17.8     29.7        No           No  "
      ]
     },
     "execution_count": 14,
     "metadata": {},
     "output_type": "execute_result"
    }
   ],
   "source": [
    "df.head()"
   ]
  },
  {
   "cell_type": "code",
   "execution_count": 16,
   "id": "3e6e6b66",
   "metadata": {},
   "outputs": [
    {
     "data": {
      "text/plain": [
       "Date                0\n",
       "Location            0\n",
       "MinTemp            75\n",
       "MaxTemp            60\n",
       "Rainfall          240\n",
       "Evaporation      3512\n",
       "Sunshine         3994\n",
       "WindGustDir       991\n",
       "WindGustSpeed     991\n",
       "WindDir9am        829\n",
       "WindDir3pm        308\n",
       "WindSpeed9am       76\n",
       "WindSpeed3pm      107\n",
       "Humidity9am        59\n",
       "Humidity3pm       102\n",
       "Pressure9am      1309\n",
       "Pressure3pm      1312\n",
       "Cloud9am         2421\n",
       "Cloud3pm         2455\n",
       "Temp9am            56\n",
       "Temp3pm            96\n",
       "RainToday         240\n",
       "RainTomorrow      239\n",
       "dtype: int64"
      ]
     },
     "execution_count": 16,
     "metadata": {},
     "output_type": "execute_result"
    }
   ],
   "source": [
    "df.isnull().sum()"
   ]
  },
  {
   "cell_type": "code",
   "execution_count": 17,
   "id": "d3372a13",
   "metadata": {},
   "outputs": [
    {
     "name": "stdout",
     "output_type": "stream",
     "text": [
      "<class 'pandas.core.frame.DataFrame'>\n",
      "RangeIndex: 8425 entries, 0 to 8424\n",
      "Data columns (total 23 columns):\n",
      " #   Column         Non-Null Count  Dtype  \n",
      "---  ------         --------------  -----  \n",
      " 0   Date           8425 non-null   object \n",
      " 1   Location       8425 non-null   object \n",
      " 2   MinTemp        8350 non-null   float64\n",
      " 3   MaxTemp        8365 non-null   float64\n",
      " 4   Rainfall       8185 non-null   float64\n",
      " 5   Evaporation    4913 non-null   float64\n",
      " 6   Sunshine       4431 non-null   float64\n",
      " 7   WindGustDir    7434 non-null   object \n",
      " 8   WindGustSpeed  7434 non-null   float64\n",
      " 9   WindDir9am     7596 non-null   object \n",
      " 10  WindDir3pm     8117 non-null   object \n",
      " 11  WindSpeed9am   8349 non-null   float64\n",
      " 12  WindSpeed3pm   8318 non-null   float64\n",
      " 13  Humidity9am    8366 non-null   float64\n",
      " 14  Humidity3pm    8323 non-null   float64\n",
      " 15  Pressure9am    7116 non-null   float64\n",
      " 16  Pressure3pm    7113 non-null   float64\n",
      " 17  Cloud9am       6004 non-null   float64\n",
      " 18  Cloud3pm       5970 non-null   float64\n",
      " 19  Temp9am        8369 non-null   float64\n",
      " 20  Temp3pm        8329 non-null   float64\n",
      " 21  RainToday      8185 non-null   object \n",
      " 22  RainTomorrow   8186 non-null   object \n",
      "dtypes: float64(16), object(7)\n",
      "memory usage: 1.5+ MB\n"
     ]
    }
   ],
   "source": [
    "df.info()"
   ]
  },
  {
   "cell_type": "code",
   "execution_count": 18,
   "id": "ca5a31af",
   "metadata": {},
   "outputs": [],
   "source": [
    "df['RainTomorrow'] = df['RainTomorrow'].replace(['Yes', 'No'], [1,0])"
   ]
  },
  {
   "cell_type": "code",
   "execution_count": 19,
   "id": "fa1e8e32",
   "metadata": {},
   "outputs": [
    {
     "data": {
      "text/plain": [
       "(8425, 23)"
      ]
     },
     "execution_count": 19,
     "metadata": {},
     "output_type": "execute_result"
    }
   ],
   "source": [
    "df.shape"
   ]
  },
  {
   "cell_type": "code",
   "execution_count": 20,
   "id": "5786ee7c",
   "metadata": {},
   "outputs": [
    {
     "data": {
      "text/html": [
       "<div>\n",
       "<style scoped>\n",
       "    .dataframe tbody tr th:only-of-type {\n",
       "        vertical-align: middle;\n",
       "    }\n",
       "\n",
       "    .dataframe tbody tr th {\n",
       "        vertical-align: top;\n",
       "    }\n",
       "\n",
       "    .dataframe thead th {\n",
       "        text-align: right;\n",
       "    }\n",
       "</style>\n",
       "<table border=\"1\" class=\"dataframe\">\n",
       "  <thead>\n",
       "    <tr style=\"text-align: right;\">\n",
       "      <th></th>\n",
       "      <th>MinTemp</th>\n",
       "      <th>MaxTemp</th>\n",
       "      <th>Rainfall</th>\n",
       "      <th>Evaporation</th>\n",
       "      <th>Sunshine</th>\n",
       "      <th>WindGustSpeed</th>\n",
       "      <th>WindSpeed9am</th>\n",
       "      <th>WindSpeed3pm</th>\n",
       "      <th>Humidity9am</th>\n",
       "      <th>Humidity3pm</th>\n",
       "      <th>Pressure9am</th>\n",
       "      <th>Pressure3pm</th>\n",
       "      <th>Cloud9am</th>\n",
       "      <th>Cloud3pm</th>\n",
       "      <th>Temp9am</th>\n",
       "      <th>Temp3pm</th>\n",
       "      <th>RainTomorrow</th>\n",
       "    </tr>\n",
       "  </thead>\n",
       "  <tbody>\n",
       "    <tr>\n",
       "      <th>count</th>\n",
       "      <td>8350.000000</td>\n",
       "      <td>8365.000000</td>\n",
       "      <td>8185.000000</td>\n",
       "      <td>4913.000000</td>\n",
       "      <td>4431.000000</td>\n",
       "      <td>7434.000000</td>\n",
       "      <td>8349.000000</td>\n",
       "      <td>8318.000000</td>\n",
       "      <td>8366.000000</td>\n",
       "      <td>8323.000000</td>\n",
       "      <td>7116.000000</td>\n",
       "      <td>7113.000000</td>\n",
       "      <td>6004.000000</td>\n",
       "      <td>5970.000000</td>\n",
       "      <td>8369.000000</td>\n",
       "      <td>8329.000000</td>\n",
       "      <td>8186.000000</td>\n",
       "    </tr>\n",
       "    <tr>\n",
       "      <th>mean</th>\n",
       "      <td>13.193305</td>\n",
       "      <td>23.859976</td>\n",
       "      <td>2.805913</td>\n",
       "      <td>5.389395</td>\n",
       "      <td>7.632205</td>\n",
       "      <td>40.174469</td>\n",
       "      <td>13.847646</td>\n",
       "      <td>18.533662</td>\n",
       "      <td>67.822496</td>\n",
       "      <td>51.249790</td>\n",
       "      <td>1017.640233</td>\n",
       "      <td>1015.236075</td>\n",
       "      <td>4.566622</td>\n",
       "      <td>4.503183</td>\n",
       "      <td>17.762015</td>\n",
       "      <td>22.442934</td>\n",
       "      <td>0.243220</td>\n",
       "    </tr>\n",
       "    <tr>\n",
       "      <th>std</th>\n",
       "      <td>5.403596</td>\n",
       "      <td>6.136408</td>\n",
       "      <td>10.459379</td>\n",
       "      <td>5.044484</td>\n",
       "      <td>3.896235</td>\n",
       "      <td>14.665721</td>\n",
       "      <td>10.174579</td>\n",
       "      <td>9.766986</td>\n",
       "      <td>16.833283</td>\n",
       "      <td>18.423774</td>\n",
       "      <td>6.828699</td>\n",
       "      <td>6.766681</td>\n",
       "      <td>2.877658</td>\n",
       "      <td>2.731659</td>\n",
       "      <td>5.627035</td>\n",
       "      <td>5.980020</td>\n",
       "      <td>0.429053</td>\n",
       "    </tr>\n",
       "    <tr>\n",
       "      <th>min</th>\n",
       "      <td>-2.000000</td>\n",
       "      <td>8.200000</td>\n",
       "      <td>0.000000</td>\n",
       "      <td>0.000000</td>\n",
       "      <td>0.000000</td>\n",
       "      <td>7.000000</td>\n",
       "      <td>0.000000</td>\n",
       "      <td>0.000000</td>\n",
       "      <td>10.000000</td>\n",
       "      <td>6.000000</td>\n",
       "      <td>989.800000</td>\n",
       "      <td>982.900000</td>\n",
       "      <td>0.000000</td>\n",
       "      <td>0.000000</td>\n",
       "      <td>1.900000</td>\n",
       "      <td>7.300000</td>\n",
       "      <td>0.000000</td>\n",
       "    </tr>\n",
       "    <tr>\n",
       "      <th>25%</th>\n",
       "      <td>9.200000</td>\n",
       "      <td>19.300000</td>\n",
       "      <td>0.000000</td>\n",
       "      <td>2.600000</td>\n",
       "      <td>4.750000</td>\n",
       "      <td>30.000000</td>\n",
       "      <td>6.000000</td>\n",
       "      <td>11.000000</td>\n",
       "      <td>56.000000</td>\n",
       "      <td>39.000000</td>\n",
       "      <td>1013.000000</td>\n",
       "      <td>1010.400000</td>\n",
       "      <td>1.000000</td>\n",
       "      <td>2.000000</td>\n",
       "      <td>13.800000</td>\n",
       "      <td>18.000000</td>\n",
       "      <td>0.000000</td>\n",
       "    </tr>\n",
       "    <tr>\n",
       "      <th>50%</th>\n",
       "      <td>13.300000</td>\n",
       "      <td>23.300000</td>\n",
       "      <td>0.000000</td>\n",
       "      <td>4.600000</td>\n",
       "      <td>8.700000</td>\n",
       "      <td>39.000000</td>\n",
       "      <td>13.000000</td>\n",
       "      <td>19.000000</td>\n",
       "      <td>68.000000</td>\n",
       "      <td>51.000000</td>\n",
       "      <td>1017.700000</td>\n",
       "      <td>1015.300000</td>\n",
       "      <td>5.000000</td>\n",
       "      <td>5.000000</td>\n",
       "      <td>17.800000</td>\n",
       "      <td>21.900000</td>\n",
       "      <td>0.000000</td>\n",
       "    </tr>\n",
       "    <tr>\n",
       "      <th>75%</th>\n",
       "      <td>17.400000</td>\n",
       "      <td>28.000000</td>\n",
       "      <td>1.000000</td>\n",
       "      <td>7.000000</td>\n",
       "      <td>10.700000</td>\n",
       "      <td>50.000000</td>\n",
       "      <td>20.000000</td>\n",
       "      <td>24.000000</td>\n",
       "      <td>80.000000</td>\n",
       "      <td>63.000000</td>\n",
       "      <td>1022.300000</td>\n",
       "      <td>1019.800000</td>\n",
       "      <td>7.000000</td>\n",
       "      <td>7.000000</td>\n",
       "      <td>21.900000</td>\n",
       "      <td>26.400000</td>\n",
       "      <td>0.000000</td>\n",
       "    </tr>\n",
       "    <tr>\n",
       "      <th>max</th>\n",
       "      <td>28.500000</td>\n",
       "      <td>45.500000</td>\n",
       "      <td>371.000000</td>\n",
       "      <td>145.000000</td>\n",
       "      <td>13.900000</td>\n",
       "      <td>107.000000</td>\n",
       "      <td>63.000000</td>\n",
       "      <td>83.000000</td>\n",
       "      <td>100.000000</td>\n",
       "      <td>99.000000</td>\n",
       "      <td>1039.000000</td>\n",
       "      <td>1036.000000</td>\n",
       "      <td>8.000000</td>\n",
       "      <td>8.000000</td>\n",
       "      <td>39.400000</td>\n",
       "      <td>44.100000</td>\n",
       "      <td>1.000000</td>\n",
       "    </tr>\n",
       "  </tbody>\n",
       "</table>\n",
       "</div>"
      ],
      "text/plain": [
       "           MinTemp      MaxTemp     Rainfall  Evaporation     Sunshine  \\\n",
       "count  8350.000000  8365.000000  8185.000000  4913.000000  4431.000000   \n",
       "mean     13.193305    23.859976     2.805913     5.389395     7.632205   \n",
       "std       5.403596     6.136408    10.459379     5.044484     3.896235   \n",
       "min      -2.000000     8.200000     0.000000     0.000000     0.000000   \n",
       "25%       9.200000    19.300000     0.000000     2.600000     4.750000   \n",
       "50%      13.300000    23.300000     0.000000     4.600000     8.700000   \n",
       "75%      17.400000    28.000000     1.000000     7.000000    10.700000   \n",
       "max      28.500000    45.500000   371.000000   145.000000    13.900000   \n",
       "\n",
       "       WindGustSpeed  WindSpeed9am  WindSpeed3pm  Humidity9am  Humidity3pm  \\\n",
       "count    7434.000000   8349.000000   8318.000000  8366.000000  8323.000000   \n",
       "mean       40.174469     13.847646     18.533662    67.822496    51.249790   \n",
       "std        14.665721     10.174579      9.766986    16.833283    18.423774   \n",
       "min         7.000000      0.000000      0.000000    10.000000     6.000000   \n",
       "25%        30.000000      6.000000     11.000000    56.000000    39.000000   \n",
       "50%        39.000000     13.000000     19.000000    68.000000    51.000000   \n",
       "75%        50.000000     20.000000     24.000000    80.000000    63.000000   \n",
       "max       107.000000     63.000000     83.000000   100.000000    99.000000   \n",
       "\n",
       "       Pressure9am  Pressure3pm     Cloud9am     Cloud3pm      Temp9am  \\\n",
       "count  7116.000000  7113.000000  6004.000000  5970.000000  8369.000000   \n",
       "mean   1017.640233  1015.236075     4.566622     4.503183    17.762015   \n",
       "std       6.828699     6.766681     2.877658     2.731659     5.627035   \n",
       "min     989.800000   982.900000     0.000000     0.000000     1.900000   \n",
       "25%    1013.000000  1010.400000     1.000000     2.000000    13.800000   \n",
       "50%    1017.700000  1015.300000     5.000000     5.000000    17.800000   \n",
       "75%    1022.300000  1019.800000     7.000000     7.000000    21.900000   \n",
       "max    1039.000000  1036.000000     8.000000     8.000000    39.400000   \n",
       "\n",
       "           Temp3pm  RainTomorrow  \n",
       "count  8329.000000   8186.000000  \n",
       "mean     22.442934      0.243220  \n",
       "std       5.980020      0.429053  \n",
       "min       7.300000      0.000000  \n",
       "25%      18.000000      0.000000  \n",
       "50%      21.900000      0.000000  \n",
       "75%      26.400000      0.000000  \n",
       "max      44.100000      1.000000  "
      ]
     },
     "execution_count": 20,
     "metadata": {},
     "output_type": "execute_result"
    }
   ],
   "source": [
    "df.describe()"
   ]
  },
  {
   "cell_type": "code",
   "execution_count": 21,
   "id": "92842f93",
   "metadata": {},
   "outputs": [],
   "source": [
    "df.reset_index(drop=True,inplace=True)"
   ]
  },
  {
   "cell_type": "code",
   "execution_count": 22,
   "id": "5ad6f908",
   "metadata": {},
   "outputs": [
    {
     "name": "stdout",
     "output_type": "stream",
     "text": [
      "<class 'pandas.core.frame.DataFrame'>\n",
      "RangeIndex: 8425 entries, 0 to 8424\n",
      "Data columns (total 23 columns):\n",
      " #   Column         Non-Null Count  Dtype  \n",
      "---  ------         --------------  -----  \n",
      " 0   Date           8425 non-null   object \n",
      " 1   Location       8425 non-null   object \n",
      " 2   MinTemp        8350 non-null   float64\n",
      " 3   MaxTemp        8365 non-null   float64\n",
      " 4   Rainfall       8185 non-null   float64\n",
      " 5   Evaporation    4913 non-null   float64\n",
      " 6   Sunshine       4431 non-null   float64\n",
      " 7   WindGustDir    7434 non-null   object \n",
      " 8   WindGustSpeed  7434 non-null   float64\n",
      " 9   WindDir9am     7596 non-null   object \n",
      " 10  WindDir3pm     8117 non-null   object \n",
      " 11  WindSpeed9am   8349 non-null   float64\n",
      " 12  WindSpeed3pm   8318 non-null   float64\n",
      " 13  Humidity9am    8366 non-null   float64\n",
      " 14  Humidity3pm    8323 non-null   float64\n",
      " 15  Pressure9am    7116 non-null   float64\n",
      " 16  Pressure3pm    7113 non-null   float64\n",
      " 17  Cloud9am       6004 non-null   float64\n",
      " 18  Cloud3pm       5970 non-null   float64\n",
      " 19  Temp9am        8369 non-null   float64\n",
      " 20  Temp3pm        8329 non-null   float64\n",
      " 21  RainToday      8185 non-null   object \n",
      " 22  RainTomorrow   8186 non-null   float64\n",
      "dtypes: float64(17), object(6)\n",
      "memory usage: 1.5+ MB\n"
     ]
    }
   ],
   "source": [
    "df.info()"
   ]
  },
  {
   "cell_type": "code",
   "execution_count": 23,
   "id": "ba2c5d83",
   "metadata": {},
   "outputs": [
    {
     "data": {
      "text/plain": [
       "Date                0\n",
       "Location            0\n",
       "MinTemp            75\n",
       "MaxTemp            60\n",
       "Rainfall          240\n",
       "Evaporation      3512\n",
       "Sunshine         3994\n",
       "WindGustDir       991\n",
       "WindGustSpeed     991\n",
       "WindDir9am        829\n",
       "WindDir3pm        308\n",
       "WindSpeed9am       76\n",
       "WindSpeed3pm      107\n",
       "Humidity9am        59\n",
       "Humidity3pm       102\n",
       "Pressure9am      1309\n",
       "Pressure3pm      1312\n",
       "Cloud9am         2421\n",
       "Cloud3pm         2455\n",
       "Temp9am            56\n",
       "Temp3pm            96\n",
       "RainToday         240\n",
       "RainTomorrow      239\n",
       "dtype: int64"
      ]
     },
     "execution_count": 23,
     "metadata": {},
     "output_type": "execute_result"
    }
   ],
   "source": [
    "df.isnull().sum()"
   ]
  },
  {
   "cell_type": "code",
   "execution_count": 24,
   "id": "b3a19cab",
   "metadata": {},
   "outputs": [
    {
     "data": {
      "image/png": "[encoded data removed]",
      "text/plain": [
       "<Figure size 432x288 with 1 Axes>"
      ]
     },
     "metadata": {
      "needs_background": "light"
     },
     "output_type": "display_data"
    }
   ],
   "source": [
    "fix, ax = plt.subplots()\n",
    "ax.scatter(df['MinTemp'], df['MaxTemp'])\n",
    "ax.set_title('Weather DataSet of Australia')\n",
    "ax.set_xlabel('Min Temperature')\n",
    "ax.set_ylabel('Max Temperatue')\n",
    "plt.show()"
   ]
  },
  {
   "cell_type": "code",
   "execution_count": 25,
   "id": "67252bab",
   "metadata": {},
   "outputs": [
    {
     "data": {
      "image/png": "[encoded data removed]",
      "text/plain": [
       "<Figure size 432x288 with 1 Axes>"
      ]
     },
     "metadata": {
      "needs_background": "light"
     },
     "output_type": "display_data"
    },
    {
     "data": {
      "image/png": "[encoded data removed]",
      "text/plain": [
       "<Figure size 432x288 with 1 Axes>"
      ]
     },
     "metadata": {
      "needs_background": "light"
     },
     "output_type": "display_data"
    },
    {
     "data": {
      "image/png": "[encoded data removed]",
      "text/plain": [
       "<Figure size 432x288 with 1 Axes>"
      ]
     },
     "metadata": {
      "needs_background": "light"
     },
     "output_type": "display_data"
    },
    {
     "data": {
      "image/png": "[encoded data removed]",
      "text/plain": [
       "<Figure size 432x288 with 1 Axes>"
      ]
     },
     "metadata": {
      "needs_background": "light"
     },
     "output_type": "display_data"
    },
    {
     "data": {
      "image/png": "[encoded data removed]",
      "text/plain": [
       "<Figure size 432x288 with 1 Axes>"
      ]
     },
     "metadata": {
      "needs_background": "light"
     },
     "output_type": "display_data"
    },
    {
     "data": {
      "image/png": "[encoded data removed]",
      "text/plain": [
       "<Figure size 432x288 with 1 Axes>"
      ]
     },
     "metadata": {
      "needs_background": "light"
     },
     "output_type": "display_data"
    },
    {
     "data": {
      "image/png": "[encoded data removed]",
      "text/plain": [
       "<Figure size 432x288 with 1 Axes>"
      ]
     },
     "metadata": {
      "needs_background": "light"
     },
     "output_type": "display_data"
    },
    {
     "data": {
      "image/png": "[encoded data removed]",
      "text/plain": [
       "<Figure size 432x288 with 1 Axes>"
      ]
     },
     "metadata": {
      "needs_background": "light"
     },
     "output_type": "display_data"
    },
    {
     "data": {
      "image/png": "[encoded data removed]",
      "text/plain": [
       "<Figure size 432x288 with 1 Axes>"
      ]
     },
     "metadata": {
      "needs_background": "light"
     },
     "output_type": "display_data"
    },
    {
     "data": {
      "image/png": "[encoded data removed]",
      "text/plain": [
       "<Figure size 432x288 with 1 Axes>"
      ]
     },
     "metadata": {
      "needs_background": "light"
     },
     "output_type": "display_data"
    }
   ],
   "source": [
    "df.hist('Cloud3pm')\n",
    "df.hist('Cloud9am')\n",
    "df.hist('Humidity9am')\n",
    "df.hist('Humidity3pm')\n",
    "df.hist('WindSpeed9am')\n",
    "df.hist('WindSpeed3pm')\n",
    "df.hist('WindGustSpeed')\n",
    "df.hist('Sunshine')\n",
    "df.hist('Evaporation')\n",
    "df.hist('Rainfall')\n",
    "plt.show()"
   ]
  },
  {
   "cell_type": "code",
   "execution_count": 26,
   "id": "3d998cdf",
   "metadata": {},
   "outputs": [
    {
     "data": {
      "text/html": [
       "<div>\n",
       "<style scoped>\n",
       "    .dataframe tbody tr th:only-of-type {\n",
       "        vertical-align: middle;\n",
       "    }\n",
       "\n",
       "    .dataframe tbody tr th {\n",
       "        vertical-align: top;\n",
       "    }\n",
       "\n",
       "    .dataframe thead th {\n",
       "        text-align: right;\n",
       "    }\n",
       "</style>\n",
       "<table border=\"1\" class=\"dataframe\">\n",
       "  <thead>\n",
       "    <tr style=\"text-align: right;\">\n",
       "      <th></th>\n",
       "      <th>MinTemp</th>\n",
       "      <th>MaxTemp</th>\n",
       "      <th>Rainfall</th>\n",
       "      <th>Evaporation</th>\n",
       "      <th>Sunshine</th>\n",
       "      <th>WindGustSpeed</th>\n",
       "      <th>WindSpeed9am</th>\n",
       "      <th>WindSpeed3pm</th>\n",
       "      <th>Humidity9am</th>\n",
       "      <th>Humidity3pm</th>\n",
       "      <th>Pressure9am</th>\n",
       "      <th>Pressure3pm</th>\n",
       "      <th>Cloud9am</th>\n",
       "      <th>Cloud3pm</th>\n",
       "      <th>Temp9am</th>\n",
       "      <th>Temp3pm</th>\n",
       "      <th>RainTomorrow</th>\n",
       "    </tr>\n",
       "  </thead>\n",
       "  <tbody>\n",
       "    <tr>\n",
       "      <th>MinTemp</th>\n",
       "      <td>1.000000</td>\n",
       "      <td>0.720955</td>\n",
       "      <td>0.091642</td>\n",
       "      <td>0.348643</td>\n",
       "      <td>0.081365</td>\n",
       "      <td>0.241317</td>\n",
       "      <td>0.137263</td>\n",
       "      <td>0.180091</td>\n",
       "      <td>-0.130906</td>\n",
       "      <td>0.079569</td>\n",
       "      <td>-0.465478</td>\n",
       "      <td>-0.458665</td>\n",
       "      <td>0.111213</td>\n",
       "      <td>0.046889</td>\n",
       "      <td>0.888342</td>\n",
       "      <td>0.689652</td>\n",
       "      <td>0.099464</td>\n",
       "    </tr>\n",
       "    <tr>\n",
       "      <th>MaxTemp</th>\n",
       "      <td>0.720955</td>\n",
       "      <td>1.000000</td>\n",
       "      <td>-0.088906</td>\n",
       "      <td>0.424728</td>\n",
       "      <td>0.523909</td>\n",
       "      <td>0.146113</td>\n",
       "      <td>0.013425</td>\n",
       "      <td>0.088797</td>\n",
       "      <td>-0.392496</td>\n",
       "      <td>-0.424217</td>\n",
       "      <td>-0.347285</td>\n",
       "      <td>-0.430074</td>\n",
       "      <td>-0.307700</td>\n",
       "      <td>-0.301675</td>\n",
       "      <td>0.869503</td>\n",
       "      <td>0.978665</td>\n",
       "      <td>-0.154657</td>\n",
       "    </tr>\n",
       "    <tr>\n",
       "      <th>Rainfall</th>\n",
       "      <td>0.091642</td>\n",
       "      <td>-0.088906</td>\n",
       "      <td>1.000000</td>\n",
       "      <td>0.043463</td>\n",
       "      <td>-0.209654</td>\n",
       "      <td>0.104999</td>\n",
       "      <td>0.051349</td>\n",
       "      <td>0.025185</td>\n",
       "      <td>0.231702</td>\n",
       "      <td>0.238730</td>\n",
       "      <td>-0.080412</td>\n",
       "      <td>-0.037270</td>\n",
       "      <td>0.195157</td>\n",
       "      <td>0.159250</td>\n",
       "      <td>-0.007191</td>\n",
       "      <td>-0.092263</td>\n",
       "      <td>0.225180</td>\n",
       "    </tr>\n",
       "    <tr>\n",
       "      <th>Evaporation</th>\n",
       "      <td>0.348643</td>\n",
       "      <td>0.424728</td>\n",
       "      <td>0.043463</td>\n",
       "      <td>1.000000</td>\n",
       "      <td>0.340893</td>\n",
       "      <td>0.214069</td>\n",
       "      <td>0.176701</td>\n",
       "      <td>0.142421</td>\n",
       "      <td>-0.286869</td>\n",
       "      <td>-0.221244</td>\n",
       "      <td>-0.218171</td>\n",
       "      <td>-0.233401</td>\n",
       "      <td>-0.084288</td>\n",
       "      <td>-0.152637</td>\n",
       "      <td>0.405467</td>\n",
       "      <td>0.414156</td>\n",
       "      <td>-0.081179</td>\n",
       "    </tr>\n",
       "    <tr>\n",
       "      <th>Sunshine</th>\n",
       "      <td>0.081365</td>\n",
       "      <td>0.523909</td>\n",
       "      <td>-0.209654</td>\n",
       "      <td>0.340893</td>\n",
       "      <td>1.000000</td>\n",
       "      <td>-0.018455</td>\n",
       "      <td>-0.025112</td>\n",
       "      <td>0.045031</td>\n",
       "      <td>-0.512349</td>\n",
       "      <td>-0.630536</td>\n",
       "      <td>0.028666</td>\n",
       "      <td>-0.047098</td>\n",
       "      <td>-0.705577</td>\n",
       "      <td>-0.723957</td>\n",
       "      <td>0.348708</td>\n",
       "      <td>0.546057</td>\n",
       "      <td>-0.471405</td>\n",
       "    </tr>\n",
       "    <tr>\n",
       "      <th>WindGustSpeed</th>\n",
       "      <td>0.241317</td>\n",
       "      <td>0.146113</td>\n",
       "      <td>0.104999</td>\n",
       "      <td>0.214069</td>\n",
       "      <td>-0.018455</td>\n",
       "      <td>1.000000</td>\n",
       "      <td>0.656079</td>\n",
       "      <td>0.711403</td>\n",
       "      <td>-0.286045</td>\n",
       "      <td>-0.097380</td>\n",
       "      <td>-0.430736</td>\n",
       "      <td>-0.394745</td>\n",
       "      <td>0.030124</td>\n",
       "      <td>0.104157</td>\n",
       "      <td>0.211477</td>\n",
       "      <td>0.106872</td>\n",
       "      <td>0.211384</td>\n",
       "    </tr>\n",
       "    <tr>\n",
       "      <th>WindSpeed9am</th>\n",
       "      <td>0.137263</td>\n",
       "      <td>0.013425</td>\n",
       "      <td>0.051349</td>\n",
       "      <td>0.176701</td>\n",
       "      <td>-0.025112</td>\n",
       "      <td>0.656079</td>\n",
       "      <td>1.000000</td>\n",
       "      <td>0.566322</td>\n",
       "      <td>-0.358981</td>\n",
       "      <td>-0.111595</td>\n",
       "      <td>-0.197189</td>\n",
       "      <td>-0.156517</td>\n",
       "      <td>-0.000607</td>\n",
       "      <td>0.068930</td>\n",
       "      <td>0.109936</td>\n",
       "      <td>-0.002619</td>\n",
       "      <td>0.073335</td>\n",
       "    </tr>\n",
       "    <tr>\n",
       "      <th>WindSpeed3pm</th>\n",
       "      <td>0.180091</td>\n",
       "      <td>0.088797</td>\n",
       "      <td>0.025185</td>\n",
       "      <td>0.142421</td>\n",
       "      <td>0.045031</td>\n",
       "      <td>0.711403</td>\n",
       "      <td>0.566322</td>\n",
       "      <td>1.000000</td>\n",
       "      <td>-0.252488</td>\n",
       "      <td>-0.091248</td>\n",
       "      <td>-0.291271</td>\n",
       "      <td>-0.240378</td>\n",
       "      <td>0.005807</td>\n",
       "      <td>0.003894</td>\n",
       "      <td>0.185329</td>\n",
       "      <td>0.066201</td>\n",
       "      <td>0.058073</td>\n",
       "    </tr>\n",
       "    <tr>\n",
       "      <th>Humidity9am</th>\n",
       "      <td>-0.130906</td>\n",
       "      <td>-0.392496</td>\n",
       "      <td>0.231702</td>\n",
       "      <td>-0.286869</td>\n",
       "      <td>-0.512349</td>\n",
       "      <td>-0.286045</td>\n",
       "      <td>-0.358981</td>\n",
       "      <td>-0.252488</td>\n",
       "      <td>1.000000</td>\n",
       "      <td>0.636255</td>\n",
       "      <td>0.154699</td>\n",
       "      <td>0.188463</td>\n",
       "      <td>0.472126</td>\n",
       "      <td>0.352736</td>\n",
       "      <td>-0.378389</td>\n",
       "      <td>-0.383788</td>\n",
       "      <td>0.279701</td>\n",
       "    </tr>\n",
       "    <tr>\n",
       "      <th>Humidity3pm</th>\n",
       "      <td>0.079569</td>\n",
       "      <td>-0.424217</td>\n",
       "      <td>0.238730</td>\n",
       "      <td>-0.221244</td>\n",
       "      <td>-0.630536</td>\n",
       "      <td>-0.097380</td>\n",
       "      <td>-0.111595</td>\n",
       "      <td>-0.091248</td>\n",
       "      <td>0.636255</td>\n",
       "      <td>1.000000</td>\n",
       "      <td>0.001763</td>\n",
       "      <td>0.076002</td>\n",
       "      <td>0.509797</td>\n",
       "      <td>0.520221</td>\n",
       "      <td>-0.130973</td>\n",
       "      <td>-0.491634</td>\n",
       "      <td>0.457160</td>\n",
       "    </tr>\n",
       "    <tr>\n",
       "      <th>Pressure9am</th>\n",
       "      <td>-0.465478</td>\n",
       "      <td>-0.347285</td>\n",
       "      <td>-0.080412</td>\n",
       "      <td>-0.218171</td>\n",
       "      <td>0.028666</td>\n",
       "      <td>-0.430736</td>\n",
       "      <td>-0.197189</td>\n",
       "      <td>-0.291271</td>\n",
       "      <td>0.154699</td>\n",
       "      <td>0.001763</td>\n",
       "      <td>1.000000</td>\n",
       "      <td>0.961922</td>\n",
       "      <td>-0.091391</td>\n",
       "      <td>-0.104535</td>\n",
       "      <td>-0.441901</td>\n",
       "      <td>-0.302488</td>\n",
       "      <td>-0.188239</td>\n",
       "    </tr>\n",
       "    <tr>\n",
       "      <th>Pressure3pm</th>\n",
       "      <td>-0.458665</td>\n",
       "      <td>-0.430074</td>\n",
       "      <td>-0.037270</td>\n",
       "      <td>-0.233401</td>\n",
       "      <td>-0.047098</td>\n",
       "      <td>-0.394745</td>\n",
       "      <td>-0.156517</td>\n",
       "      <td>-0.240378</td>\n",
       "      <td>0.188463</td>\n",
       "      <td>0.076002</td>\n",
       "      <td>0.961922</td>\n",
       "      <td>1.000000</td>\n",
       "      <td>-0.015692</td>\n",
       "      <td>-0.035986</td>\n",
       "      <td>-0.472788</td>\n",
       "      <td>-0.394852</td>\n",
       "      <td>-0.156258</td>\n",
       "    </tr>\n",
       "    <tr>\n",
       "      <th>Cloud9am</th>\n",
       "      <td>0.111213</td>\n",
       "      <td>-0.307700</td>\n",
       "      <td>0.195157</td>\n",
       "      <td>-0.084288</td>\n",
       "      <td>-0.705577</td>\n",
       "      <td>0.030124</td>\n",
       "      <td>-0.000607</td>\n",
       "      <td>0.005807</td>\n",
       "      <td>0.472126</td>\n",
       "      <td>0.509797</td>\n",
       "      <td>-0.091391</td>\n",
       "      <td>-0.015692</td>\n",
       "      <td>1.000000</td>\n",
       "      <td>0.619202</td>\n",
       "      <td>-0.161867</td>\n",
       "      <td>-0.326547</td>\n",
       "      <td>0.331361</td>\n",
       "    </tr>\n",
       "    <tr>\n",
       "      <th>Cloud3pm</th>\n",
       "      <td>0.046889</td>\n",
       "      <td>-0.301675</td>\n",
       "      <td>0.159250</td>\n",
       "      <td>-0.152637</td>\n",
       "      <td>-0.723957</td>\n",
       "      <td>0.104157</td>\n",
       "      <td>0.068930</td>\n",
       "      <td>0.003894</td>\n",
       "      <td>0.352736</td>\n",
       "      <td>0.520221</td>\n",
       "      <td>-0.104535</td>\n",
       "      <td>-0.035986</td>\n",
       "      <td>0.619202</td>\n",
       "      <td>1.000000</td>\n",
       "      <td>-0.151438</td>\n",
       "      <td>-0.348986</td>\n",
       "      <td>0.403167</td>\n",
       "    </tr>\n",
       "    <tr>\n",
       "      <th>Temp9am</th>\n",
       "      <td>0.888342</td>\n",
       "      <td>0.869503</td>\n",
       "      <td>-0.007191</td>\n",
       "      <td>0.405467</td>\n",
       "      <td>0.348708</td>\n",
       "      <td>0.211477</td>\n",
       "      <td>0.109936</td>\n",
       "      <td>0.185329</td>\n",
       "      <td>-0.378389</td>\n",
       "      <td>-0.130973</td>\n",
       "      <td>-0.441901</td>\n",
       "      <td>-0.472788</td>\n",
       "      <td>-0.161867</td>\n",
       "      <td>-0.151438</td>\n",
       "      <td>1.000000</td>\n",
       "      <td>0.837552</td>\n",
       "      <td>-0.022002</td>\n",
       "    </tr>\n",
       "    <tr>\n",
       "      <th>Temp3pm</th>\n",
       "      <td>0.689652</td>\n",
       "      <td>0.978665</td>\n",
       "      <td>-0.092263</td>\n",
       "      <td>0.414156</td>\n",
       "      <td>0.546057</td>\n",
       "      <td>0.106872</td>\n",
       "      <td>-0.002619</td>\n",
       "      <td>0.066201</td>\n",
       "      <td>-0.383788</td>\n",
       "      <td>-0.491634</td>\n",
       "      <td>-0.302488</td>\n",
       "      <td>-0.394852</td>\n",
       "      <td>-0.326547</td>\n",
       "      <td>-0.348986</td>\n",
       "      <td>0.837552</td>\n",
       "      <td>1.000000</td>\n",
       "      <td>-0.197609</td>\n",
       "    </tr>\n",
       "    <tr>\n",
       "      <th>RainTomorrow</th>\n",
       "      <td>0.099464</td>\n",
       "      <td>-0.154657</td>\n",
       "      <td>0.225180</td>\n",
       "      <td>-0.081179</td>\n",
       "      <td>-0.471405</td>\n",
       "      <td>0.211384</td>\n",
       "      <td>0.073335</td>\n",
       "      <td>0.058073</td>\n",
       "      <td>0.279701</td>\n",
       "      <td>0.457160</td>\n",
       "      <td>-0.188239</td>\n",
       "      <td>-0.156258</td>\n",
       "      <td>0.331361</td>\n",
       "      <td>0.403167</td>\n",
       "      <td>-0.022002</td>\n",
       "      <td>-0.197609</td>\n",
       "      <td>1.000000</td>\n",
       "    </tr>\n",
       "  </tbody>\n",
       "</table>\n",
       "</div>"
      ],
      "text/plain": [
       "                MinTemp   MaxTemp  Rainfall  Evaporation  Sunshine  \\\n",
       "MinTemp        1.000000  0.720955  0.091642     0.348643  0.081365   \n",
       "MaxTemp        0.720955  1.000000 -0.088906     0.424728  0.523909   \n",
       "Rainfall       0.091642 -0.088906  1.000000     0.043463 -0.209654   \n",
       "Evaporation    0.348643  0.424728  0.043463     1.000000  0.340893   \n",
       "Sunshine       0.081365  0.523909 -0.209654     0.340893  1.000000   \n",
       "WindGustSpeed  0.241317  0.146113  0.104999     0.214069 -0.018455   \n",
       "WindSpeed9am   0.137263  0.013425  0.051349     0.176701 -0.025112   \n",
       "WindSpeed3pm   0.180091  0.088797  0.025185     0.142421  0.045031   \n",
       "Humidity9am   -0.130906 -0.392496  0.231702    -0.286869 -0.512349   \n",
       "Humidity3pm    0.079569 -0.424217  0.238730    -0.221244 -0.630536   \n",
       "Pressure9am   -0.465478 -0.347285 -0.080412    -0.218171  0.028666   \n",
       "Pressure3pm   -0.458665 -0.430074 -0.037270    -0.233401 -0.047098   \n",
       "Cloud9am       0.111213 -0.307700  0.195157    -0.084288 -0.705577   \n",
       "Cloud3pm       0.046889 -0.301675  0.159250    -0.152637 -0.723957   \n",
       "Temp9am        0.888342  0.869503 -0.007191     0.405467  0.348708   \n",
       "Temp3pm        0.689652  0.978665 -0.092263     0.414156  0.546057   \n",
       "RainTomorrow   0.099464 -0.154657  0.225180    -0.081179 -0.471405   \n",
       "\n",
       "               WindGustSpeed  WindSpeed9am  WindSpeed3pm  Humidity9am  \\\n",
       "MinTemp             0.241317      0.137263      0.180091    -0.130906   \n",
       "MaxTemp             0.146113      0.013425      0.088797    -0.392496   \n",
       "Rainfall            0.104999      0.051349      0.025185     0.231702   \n",
       "Evaporation         0.214069      0.176701      0.142421    -0.286869   \n",
       "Sunshine           -0.018455     -0.025112      0.045031    -0.512349   \n",
       "WindGustSpeed       1.000000      0.656079      0.711403    -0.286045   \n",
       "WindSpeed9am        0.656079      1.000000      0.566322    -0.358981   \n",
       "WindSpeed3pm        0.711403      0.566322      1.000000    -0.252488   \n",
       "Humidity9am        -0.286045     -0.358981     -0.252488     1.000000   \n",
       "Humidity3pm        -0.097380     -0.111595     -0.091248     0.636255   \n",
       "Pressure9am        -0.430736     -0.197189     -0.291271     0.154699   \n",
       "Pressure3pm        -0.394745     -0.156517     -0.240378     0.188463   \n",
       "Cloud9am            0.030124     -0.000607      0.005807     0.472126   \n",
       "Cloud3pm            0.104157      0.068930      0.003894     0.352736   \n",
       "Temp9am             0.211477      0.109936      0.185329    -0.378389   \n",
       "Temp3pm             0.106872     -0.002619      0.066201    -0.383788   \n",
       "RainTomorrow        0.211384      0.073335      0.058073     0.279701   \n",
       "\n",
       "               Humidity3pm  Pressure9am  Pressure3pm  Cloud9am  Cloud3pm  \\\n",
       "MinTemp           0.079569    -0.465478    -0.458665  0.111213  0.046889   \n",
       "MaxTemp          -0.424217    -0.347285    -0.430074 -0.307700 -0.301675   \n",
       "Rainfall          0.238730    -0.080412    -0.037270  0.195157  0.159250   \n",
       "Evaporation      -0.221244    -0.218171    -0.233401 -0.084288 -0.152637   \n",
       "Sunshine         -0.630536     0.028666    -0.047098 -0.705577 -0.723957   \n",
       "WindGustSpeed    -0.097380    -0.430736    -0.394745  0.030124  0.104157   \n",
       "WindSpeed9am     -0.111595    -0.197189    -0.156517 -0.000607  0.068930   \n",
       "WindSpeed3pm     -0.091248    -0.291271    -0.240378  0.005807  0.003894   \n",
       "Humidity9am       0.636255     0.154699     0.188463  0.472126  0.352736   \n",
       "Humidity3pm       1.000000     0.001763     0.076002  0.509797  0.520221   \n",
       "Pressure9am       0.001763     1.000000     0.961922 -0.091391 -0.104535   \n",
       "Pressure3pm       0.076002     0.961922     1.000000 -0.015692 -0.035986   \n",
       "Cloud9am          0.509797    -0.091391    -0.015692  1.000000  0.619202   \n",
       "Cloud3pm          0.520221    -0.104535    -0.035986  0.619202  1.000000   \n",
       "Temp9am          -0.130973    -0.441901    -0.472788 -0.161867 -0.151438   \n",
       "Temp3pm          -0.491634    -0.302488    -0.394852 -0.326547 -0.348986   \n",
       "RainTomorrow      0.457160    -0.188239    -0.156258  0.331361  0.403167   \n",
       "\n",
       "                Temp9am   Temp3pm  RainTomorrow  \n",
       "MinTemp        0.888342  0.689652      0.099464  \n",
       "MaxTemp        0.869503  0.978665     -0.154657  \n",
       "Rainfall      -0.007191 -0.092263      0.225180  \n",
       "Evaporation    0.405467  0.414156     -0.081179  \n",
       "Sunshine       0.348708  0.546057     -0.471405  \n",
       "WindGustSpeed  0.211477  0.106872      0.211384  \n",
       "WindSpeed9am   0.109936 -0.002619      0.073335  \n",
       "WindSpeed3pm   0.185329  0.066201      0.058073  \n",
       "Humidity9am   -0.378389 -0.383788      0.279701  \n",
       "Humidity3pm   -0.130973 -0.491634      0.457160  \n",
       "Pressure9am   -0.441901 -0.302488     -0.188239  \n",
       "Pressure3pm   -0.472788 -0.394852     -0.156258  \n",
       "Cloud9am      -0.161867 -0.326547      0.331361  \n",
       "Cloud3pm      -0.151438 -0.348986      0.403167  \n",
       "Temp9am        1.000000  0.837552     -0.022002  \n",
       "Temp3pm        0.837552  1.000000     -0.197609  \n",
       "RainTomorrow  -0.022002 -0.197609      1.000000  "
      ]
     },
     "execution_count": 26,
     "metadata": {},
     "output_type": "execute_result"
    }
   ],
   "source": [
    "df.corr()"
   ]
  },
  {
   "cell_type": "code",
   "execution_count": 27,
   "id": "21cfd1e7",
   "metadata": {},
   "outputs": [
    {
     "data": {
      "image/png": "[encoded data removed]",
      "text/plain": [
       "<Figure size 432x288 with 1 Axes>"
      ]
     },
     "metadata": {
      "needs_background": "light"
     },
     "output_type": "display_data"
    }
   ],
   "source": [
    "sns.boxplot(x = df[\"RainTomorrow\"], y = df[\"MinTemp\"])\n",
    "plt.show()"
   ]
  },
  {
   "cell_type": "code",
   "execution_count": 29,
   "id": "07ae03d5",
   "metadata": {},
   "outputs": [
    {
     "data": {
      "image/png": "[encoded data removed]",
      "text/plain": [
       "<Figure size 432x288 with 1 Axes>"
      ]
     },
     "metadata": {
      "needs_background": "light"
     },
     "output_type": "display_data"
    }
   ],
   "source": [
    "sns.boxplot(x = df[\"RainTomorrow\"], y = df[\"MaxTemp\"])\n",
    "plt.show()"
   ]
  },
  {
   "cell_type": "code",
   "execution_count": 30,
   "id": "573d2210",
   "metadata": {},
   "outputs": [
    {
     "data": {
      "image/png": "[encoded data removed]",
      "text/plain": [
       "<Figure size 432x288 with 1 Axes>"
      ]
     },
     "metadata": {
      "needs_background": "light"
     },
     "output_type": "display_data"
    }
   ],
   "source": [
    "sns.boxplot(x = df[\"RainTomorrow\"], y = df[\"WindGustSpeed\"])\n",
    "plt.show()"
   ]
  },
  {
   "cell_type": "code",
   "execution_count": 31,
   "id": "a0dbe0b5",
   "metadata": {},
   "outputs": [
    {
     "data": {
      "image/png": "[encoded data removed]",
      "text/plain": [
       "<Figure size 432x288 with 1 Axes>"
      ]
     },
     "metadata": {
      "needs_background": "light"
     },
     "output_type": "display_data"
    }
   ],
   "source": [
    "sns.boxplot(x = df[\"RainTomorrow\"], y = df[\"Sunshine\"])\n",
    "plt.show()"
   ]
  },
  {
   "cell_type": "code",
   "execution_count": 32,
   "id": "9f909b15",
   "metadata": {},
   "outputs": [
    {
     "data": {
      "image/png": "[encoded data removed]",
      "text/plain": [
       "<Figure size 432x288 with 1 Axes>"
      ]
     },
     "metadata": {
      "needs_background": "light"
     },
     "output_type": "display_data"
    }
   ],
   "source": [
    "sns.boxplot(x = df[\"RainTomorrow\"], y = df[\"Evaporation\"])\n",
    "plt.show()"
   ]
  },
  {
   "cell_type": "code",
   "execution_count": 33,
   "id": "d0f054e6",
   "metadata": {},
   "outputs": [
    {
     "data": {
      "image/png": "[encoded data removed]",
      "text/plain": [
       "<Figure size 432x288 with 1 Axes>"
      ]
     },
     "metadata": {
      "needs_background": "light"
     },
     "output_type": "display_data"
    }
   ],
   "source": [
    "sns.boxplot(x = df[\"RainTomorrow\"], y = df[\"WindSpeed9am\"])\n",
    "plt.show()"
   ]
  },
  {
   "cell_type": "code",
   "execution_count": 34,
   "id": "ce136956",
   "metadata": {},
   "outputs": [
    {
     "data": {
      "image/png": "[encoded data removed]",
      "text/plain": [
       "<Figure size 432x288 with 1 Axes>"
      ]
     },
     "metadata": {
      "needs_background": "light"
     },
     "output_type": "display_data"
    }
   ],
   "source": [
    "sns.boxplot(x = df[\"RainTomorrow\"], y = df[\"Temp9am\"])\n",
    "plt.show()"
   ]
  },
  {
   "cell_type": "code",
   "execution_count": 35,
   "id": "2b40fb5b",
   "metadata": {},
   "outputs": [
    {
     "data": {
      "image/png": "[encoded data removed]",
      "text/plain": [
       "<Figure size 432x288 with 1 Axes>"
      ]
     },
     "metadata": {
      "needs_background": "light"
     },
     "output_type": "display_data"
    }
   ],
   "source": [
    "sns.boxplot(x = df[\"RainTomorrow\"], y = df[\"Temp3pm\"])\n",
    "plt.show()"
   ]
  },
  {
   "cell_type": "code",
   "execution_count": 36,
   "id": "6225966d",
   "metadata": {},
   "outputs": [
    {
     "data": {
      "image/png": "[encoded data removed]",
      "text/plain": [
       "<Figure size 432x288 with 1 Axes>"
      ]
     },
     "metadata": {
      "needs_background": "light"
     },
     "output_type": "display_data"
    }
   ],
   "source": [
    "sns.boxplot(x = df[\"RainTomorrow\"], y = df[\"Cloud9am\"])\n",
    "plt.show()"
   ]
  },
  {
   "cell_type": "code",
   "execution_count": 37,
   "id": "2843636a",
   "metadata": {},
   "outputs": [
    {
     "data": {
      "image/png": "[encoded data removed]",
      "text/plain": [
       "<Figure size 432x288 with 1 Axes>"
      ]
     },
     "metadata": {
      "needs_background": "light"
     },
     "output_type": "display_data"
    }
   ],
   "source": [
    "sns.boxplot(x = df[\"RainTomorrow\"], y = df[\"Cloud3pm\"])\n",
    "plt.show()"
   ]
  },
  {
   "cell_type": "code",
   "execution_count": 38,
   "id": "3b74408c",
   "metadata": {},
   "outputs": [
    {
     "data": {
      "image/png": "[encoded data removed]",
      "text/plain": [
       "<Figure size 432x288 with 1 Axes>"
      ]
     },
     "metadata": {
      "needs_background": "light"
     },
     "output_type": "display_data"
    }
   ],
   "source": [
    "sns.boxplot(x = df[\"RainTomorrow\"], y = df[\"Pressure9am\"])\n",
    "plt.show()"
   ]
  },
  {
   "cell_type": "code",
   "execution_count": 39,
   "id": "d977d8cd",
   "metadata": {},
   "outputs": [
    {
     "data": {
      "image/png": "[encoded data removed]",
      "text/plain": [
       "<Figure size 432x288 with 1 Axes>"
      ]
     },
     "metadata": {
      "needs_background": "light"
     },
     "output_type": "display_data"
    }
   ],
   "source": [
    "sns.boxplot(x = df[\"RainTomorrow\"], y = df[\"Pressure3pm\"])\n",
    "plt.show()"
   ]
  },
  {
   "cell_type": "code",
   "execution_count": 40,
   "id": "6931ea49",
   "metadata": {},
   "outputs": [
    {
     "data": {
      "image/png": "[encoded data removed]",
      "text/plain": [
       "<Figure size 432x288 with 1 Axes>"
      ]
     },
     "metadata": {
      "needs_background": "light"
     },
     "output_type": "display_data"
    }
   ],
   "source": [
    "sns.boxplot(x = df[\"RainTomorrow\"], y = df[\"Humidity9am\"])\n",
    "plt.show()"
   ]
  },
  {
   "cell_type": "code",
   "execution_count": 41,
   "id": "d11e119a",
   "metadata": {},
   "outputs": [
    {
     "data": {
      "image/png": "[encoded data removed]",
      "text/plain": [
       "<Figure size 432x288 with 1 Axes>"
      ]
     },
     "metadata": {
      "needs_background": "light"
     },
     "output_type": "display_data"
    }
   ],
   "source": [
    "sns.boxplot(x = df[\"RainTomorrow\"], y = df[\"Humidity3pm\"])\n",
    "plt.show()"
   ]
  },
  {
   "cell_type": "code",
   "execution_count": 43,
   "id": "2bc9f347",
   "metadata": {},
   "outputs": [
    {
     "data": {
      "text/html": [
       "<div>\n",
       "<style scoped>\n",
       "    .dataframe tbody tr th:only-of-type {\n",
       "        vertical-align: middle;\n",
       "    }\n",
       "\n",
       "    .dataframe tbody tr th {\n",
       "        vertical-align: top;\n",
       "    }\n",
       "\n",
       "    .dataframe thead th {\n",
       "        text-align: right;\n",
       "    }\n",
       "</style>\n",
       "<table border=\"1\" class=\"dataframe\">\n",
       "  <thead>\n",
       "    <tr style=\"text-align: right;\">\n",
       "      <th></th>\n",
       "      <th>Location</th>\n",
       "      <th>MinTemp</th>\n",
       "      <th>MaxTemp</th>\n",
       "      <th>Rainfall</th>\n",
       "      <th>Evaporation</th>\n",
       "      <th>Sunshine</th>\n",
       "      <th>WindGustDir</th>\n",
       "      <th>WindGustSpeed</th>\n",
       "      <th>WindDir9am</th>\n",
       "      <th>WindDir3pm</th>\n",
       "      <th>WindSpeed9am</th>\n",
       "      <th>WindSpeed3pm</th>\n",
       "      <th>Humidity9am</th>\n",
       "      <th>Humidity3pm</th>\n",
       "      <th>Pressure9am</th>\n",
       "      <th>Pressure3pm</th>\n",
       "      <th>Cloud9am</th>\n",
       "      <th>Cloud3pm</th>\n",
       "      <th>Temp9am</th>\n",
       "      <th>Temp3pm</th>\n",
       "      <th>RainToday</th>\n",
       "      <th>RainTomorrow</th>\n",
       "    </tr>\n",
       "  </thead>\n",
       "  <tbody>\n",
       "    <tr>\n",
       "      <th>0</th>\n",
       "      <td>Albury</td>\n",
       "      <td>13.4</td>\n",
       "      <td>22.9</td>\n",
       "      <td>0.6</td>\n",
       "      <td>NaN</td>\n",
       "      <td>NaN</td>\n",
       "      <td>W</td>\n",
       "      <td>44.0</td>\n",
       "      <td>W</td>\n",
       "      <td>WNW</td>\n",
       "      <td>20.0</td>\n",
       "      <td>24.0</td>\n",
       "      <td>71.0</td>\n",
       "      <td>22.0</td>\n",
       "      <td>1007.7</td>\n",
       "      <td>1007.1</td>\n",
       "      <td>8.0</td>\n",
       "      <td>NaN</td>\n",
       "      <td>16.9</td>\n",
       "      <td>21.8</td>\n",
       "      <td>No</td>\n",
       "      <td>0.0</td>\n",
       "    </tr>\n",
       "    <tr>\n",
       "      <th>1</th>\n",
       "      <td>Albury</td>\n",
       "      <td>7.4</td>\n",
       "      <td>25.1</td>\n",
       "      <td>0.0</td>\n",
       "      <td>NaN</td>\n",
       "      <td>NaN</td>\n",
       "      <td>WNW</td>\n",
       "      <td>44.0</td>\n",
       "      <td>NNW</td>\n",
       "      <td>WSW</td>\n",
       "      <td>4.0</td>\n",
       "      <td>22.0</td>\n",
       "      <td>44.0</td>\n",
       "      <td>25.0</td>\n",
       "      <td>1010.6</td>\n",
       "      <td>1007.8</td>\n",
       "      <td>NaN</td>\n",
       "      <td>NaN</td>\n",
       "      <td>17.2</td>\n",
       "      <td>24.3</td>\n",
       "      <td>No</td>\n",
       "      <td>0.0</td>\n",
       "    </tr>\n",
       "    <tr>\n",
       "      <th>2</th>\n",
       "      <td>Albury</td>\n",
       "      <td>12.9</td>\n",
       "      <td>25.7</td>\n",
       "      <td>0.0</td>\n",
       "      <td>NaN</td>\n",
       "      <td>NaN</td>\n",
       "      <td>WSW</td>\n",
       "      <td>46.0</td>\n",
       "      <td>W</td>\n",
       "      <td>WSW</td>\n",
       "      <td>19.0</td>\n",
       "      <td>26.0</td>\n",
       "      <td>38.0</td>\n",
       "      <td>30.0</td>\n",
       "      <td>1007.6</td>\n",
       "      <td>1008.7</td>\n",
       "      <td>NaN</td>\n",
       "      <td>2.0</td>\n",
       "      <td>21.0</td>\n",
       "      <td>23.2</td>\n",
       "      <td>No</td>\n",
       "      <td>0.0</td>\n",
       "    </tr>\n",
       "    <tr>\n",
       "      <th>3</th>\n",
       "      <td>Albury</td>\n",
       "      <td>9.2</td>\n",
       "      <td>28.0</td>\n",
       "      <td>0.0</td>\n",
       "      <td>NaN</td>\n",
       "      <td>NaN</td>\n",
       "      <td>NE</td>\n",
       "      <td>24.0</td>\n",
       "      <td>SE</td>\n",
       "      <td>E</td>\n",
       "      <td>11.0</td>\n",
       "      <td>9.0</td>\n",
       "      <td>45.0</td>\n",
       "      <td>16.0</td>\n",
       "      <td>1017.6</td>\n",
       "      <td>1012.8</td>\n",
       "      <td>NaN</td>\n",
       "      <td>NaN</td>\n",
       "      <td>18.1</td>\n",
       "      <td>26.5</td>\n",
       "      <td>No</td>\n",
       "      <td>0.0</td>\n",
       "    </tr>\n",
       "    <tr>\n",
       "      <th>4</th>\n",
       "      <td>Albury</td>\n",
       "      <td>17.5</td>\n",
       "      <td>32.3</td>\n",
       "      <td>1.0</td>\n",
       "      <td>NaN</td>\n",
       "      <td>NaN</td>\n",
       "      <td>W</td>\n",
       "      <td>41.0</td>\n",
       "      <td>ENE</td>\n",
       "      <td>NW</td>\n",
       "      <td>7.0</td>\n",
       "      <td>20.0</td>\n",
       "      <td>82.0</td>\n",
       "      <td>33.0</td>\n",
       "      <td>1010.8</td>\n",
       "      <td>1006.0</td>\n",
       "      <td>7.0</td>\n",
       "      <td>8.0</td>\n",
       "      <td>17.8</td>\n",
       "      <td>29.7</td>\n",
       "      <td>No</td>\n",
       "      <td>0.0</td>\n",
       "    </tr>\n",
       "  </tbody>\n",
       "</table>\n",
       "</div>"
      ],
      "text/plain": [
       "  Location  MinTemp  MaxTemp  Rainfall  Evaporation  Sunshine WindGustDir  \\\n",
       "0   Albury     13.4     22.9       0.6          NaN       NaN           W   \n",
       "1   Albury      7.4     25.1       0.0          NaN       NaN         WNW   \n",
       "2   Albury     12.9     25.7       0.0          NaN       NaN         WSW   \n",
       "3   Albury      9.2     28.0       0.0          NaN       NaN          NE   \n",
       "4   Albury     17.5     32.3       1.0          NaN       NaN           W   \n",
       "\n",
       "   WindGustSpeed WindDir9am WindDir3pm  WindSpeed9am  WindSpeed3pm  \\\n",
       "0           44.0          W        WNW          20.0          24.0   \n",
       "1           44.0        NNW        WSW           4.0          22.0   \n",
       "2           46.0          W        WSW          19.0          26.0   \n",
       "3           24.0         SE          E          11.0           9.0   \n",
       "4           41.0        ENE         NW           7.0          20.0   \n",
       "\n",
       "   Humidity9am  Humidity3pm  Pressure9am  Pressure3pm  Cloud9am  Cloud3pm  \\\n",
       "0         71.0         22.0       1007.7       1007.1       8.0       NaN   \n",
       "1         44.0         25.0       1010.6       1007.8       NaN       NaN   \n",
       "2         38.0         30.0       1007.6       1008.7       NaN       2.0   \n",
       "3         45.0         16.0       1017.6       1012.8       NaN       NaN   \n",
       "4         82.0         33.0       1010.8       1006.0       7.0       8.0   \n",
       "\n",
       "   Temp9am  Temp3pm RainToday  RainTomorrow  \n",
       "0     16.9     21.8        No           0.0  \n",
       "1     17.2     24.3        No           0.0  \n",
       "2     21.0     23.2        No           0.0  \n",
       "3     18.1     26.5        No           0.0  \n",
       "4     17.8     29.7        No           0.0  "
      ]
     },
     "execution_count": 43,
     "metadata": {},
     "output_type": "execute_result"
    }
   ],
   "source": [
    "df = df.drop(['Date'], axis = 1)\n",
    "df.head(5)"
   ]
  },
  {
   "cell_type": "code",
   "execution_count": 44,
   "id": "008dbb12",
   "metadata": {},
   "outputs": [
    {
     "data": {
      "text/html": [
       "<div>\n",
       "<style scoped>\n",
       "    .dataframe tbody tr th:only-of-type {\n",
       "        vertical-align: middle;\n",
       "    }\n",
       "\n",
       "    .dataframe tbody tr th {\n",
       "        vertical-align: top;\n",
       "    }\n",
       "\n",
       "    .dataframe thead th {\n",
       "        text-align: right;\n",
       "    }\n",
       "</style>\n",
       "<table border=\"1\" class=\"dataframe\">\n",
       "  <thead>\n",
       "    <tr style=\"text-align: right;\">\n",
       "      <th></th>\n",
       "      <th>Location</th>\n",
       "      <th>MinTemp</th>\n",
       "      <th>MaxTemp</th>\n",
       "      <th>Rainfall</th>\n",
       "      <th>Evaporation</th>\n",
       "      <th>Sunshine</th>\n",
       "      <th>WindGustDir</th>\n",
       "      <th>WindGustSpeed</th>\n",
       "      <th>WindDir9am</th>\n",
       "      <th>WindDir3pm</th>\n",
       "      <th>WindSpeed9am</th>\n",
       "      <th>WindSpeed3pm</th>\n",
       "      <th>Humidity9am</th>\n",
       "      <th>Humidity3pm</th>\n",
       "      <th>Pressure9am</th>\n",
       "      <th>Pressure3pm</th>\n",
       "      <th>Cloud9am</th>\n",
       "      <th>Cloud3pm</th>\n",
       "      <th>Temp9am</th>\n",
       "      <th>Temp3pm</th>\n",
       "      <th>RainToday</th>\n",
       "      <th>RainTomorrow</th>\n",
       "    </tr>\n",
       "  </thead>\n",
       "  <tbody>\n",
       "    <tr>\n",
       "      <th>0</th>\n",
       "      <td>Albury</td>\n",
       "      <td>13.4</td>\n",
       "      <td>22.9</td>\n",
       "      <td>0.6</td>\n",
       "      <td>0.0</td>\n",
       "      <td>0.0</td>\n",
       "      <td>W</td>\n",
       "      <td>44.0</td>\n",
       "      <td>W</td>\n",
       "      <td>WNW</td>\n",
       "      <td>20.0</td>\n",
       "      <td>24.0</td>\n",
       "      <td>71.0</td>\n",
       "      <td>22.0</td>\n",
       "      <td>1007.7</td>\n",
       "      <td>1007.1</td>\n",
       "      <td>8.0</td>\n",
       "      <td>0.0</td>\n",
       "      <td>16.9</td>\n",
       "      <td>21.8</td>\n",
       "      <td>No</td>\n",
       "      <td>0.0</td>\n",
       "    </tr>\n",
       "    <tr>\n",
       "      <th>1</th>\n",
       "      <td>Albury</td>\n",
       "      <td>7.4</td>\n",
       "      <td>25.1</td>\n",
       "      <td>0.0</td>\n",
       "      <td>0.0</td>\n",
       "      <td>0.0</td>\n",
       "      <td>WNW</td>\n",
       "      <td>44.0</td>\n",
       "      <td>NNW</td>\n",
       "      <td>WSW</td>\n",
       "      <td>4.0</td>\n",
       "      <td>22.0</td>\n",
       "      <td>44.0</td>\n",
       "      <td>25.0</td>\n",
       "      <td>1010.6</td>\n",
       "      <td>1007.8</td>\n",
       "      <td>0.0</td>\n",
       "      <td>0.0</td>\n",
       "      <td>17.2</td>\n",
       "      <td>24.3</td>\n",
       "      <td>No</td>\n",
       "      <td>0.0</td>\n",
       "    </tr>\n",
       "    <tr>\n",
       "      <th>2</th>\n",
       "      <td>Albury</td>\n",
       "      <td>12.9</td>\n",
       "      <td>25.7</td>\n",
       "      <td>0.0</td>\n",
       "      <td>0.0</td>\n",
       "      <td>0.0</td>\n",
       "      <td>WSW</td>\n",
       "      <td>46.0</td>\n",
       "      <td>W</td>\n",
       "      <td>WSW</td>\n",
       "      <td>19.0</td>\n",
       "      <td>26.0</td>\n",
       "      <td>38.0</td>\n",
       "      <td>30.0</td>\n",
       "      <td>1007.6</td>\n",
       "      <td>1008.7</td>\n",
       "      <td>0.0</td>\n",
       "      <td>2.0</td>\n",
       "      <td>21.0</td>\n",
       "      <td>23.2</td>\n",
       "      <td>No</td>\n",
       "      <td>0.0</td>\n",
       "    </tr>\n",
       "    <tr>\n",
       "      <th>3</th>\n",
       "      <td>Albury</td>\n",
       "      <td>9.2</td>\n",
       "      <td>28.0</td>\n",
       "      <td>0.0</td>\n",
       "      <td>0.0</td>\n",
       "      <td>0.0</td>\n",
       "      <td>NE</td>\n",
       "      <td>24.0</td>\n",
       "      <td>SE</td>\n",
       "      <td>E</td>\n",
       "      <td>11.0</td>\n",
       "      <td>9.0</td>\n",
       "      <td>45.0</td>\n",
       "      <td>16.0</td>\n",
       "      <td>1017.6</td>\n",
       "      <td>1012.8</td>\n",
       "      <td>0.0</td>\n",
       "      <td>0.0</td>\n",
       "      <td>18.1</td>\n",
       "      <td>26.5</td>\n",
       "      <td>No</td>\n",
       "      <td>0.0</td>\n",
       "    </tr>\n",
       "    <tr>\n",
       "      <th>4</th>\n",
       "      <td>Albury</td>\n",
       "      <td>17.5</td>\n",
       "      <td>32.3</td>\n",
       "      <td>1.0</td>\n",
       "      <td>0.0</td>\n",
       "      <td>0.0</td>\n",
       "      <td>W</td>\n",
       "      <td>41.0</td>\n",
       "      <td>ENE</td>\n",
       "      <td>NW</td>\n",
       "      <td>7.0</td>\n",
       "      <td>20.0</td>\n",
       "      <td>82.0</td>\n",
       "      <td>33.0</td>\n",
       "      <td>1010.8</td>\n",
       "      <td>1006.0</td>\n",
       "      <td>7.0</td>\n",
       "      <td>8.0</td>\n",
       "      <td>17.8</td>\n",
       "      <td>29.7</td>\n",
       "      <td>No</td>\n",
       "      <td>0.0</td>\n",
       "    </tr>\n",
       "  </tbody>\n",
       "</table>\n",
       "</div>"
      ],
      "text/plain": [
       "  Location  MinTemp  MaxTemp  Rainfall  Evaporation  Sunshine WindGustDir  \\\n",
       "0   Albury     13.4     22.9       0.6          0.0       0.0           W   \n",
       "1   Albury      7.4     25.1       0.0          0.0       0.0         WNW   \n",
       "2   Albury     12.9     25.7       0.0          0.0       0.0         WSW   \n",
       "3   Albury      9.2     28.0       0.0          0.0       0.0          NE   \n",
       "4   Albury     17.5     32.3       1.0          0.0       0.0           W   \n",
       "\n",
       "   WindGustSpeed WindDir9am WindDir3pm  WindSpeed9am  WindSpeed3pm  \\\n",
       "0           44.0          W        WNW          20.0          24.0   \n",
       "1           44.0        NNW        WSW           4.0          22.0   \n",
       "2           46.0          W        WSW          19.0          26.0   \n",
       "3           24.0         SE          E          11.0           9.0   \n",
       "4           41.0        ENE         NW           7.0          20.0   \n",
       "\n",
       "   Humidity9am  Humidity3pm  Pressure9am  Pressure3pm  Cloud9am  Cloud3pm  \\\n",
       "0         71.0         22.0       1007.7       1007.1       8.0       0.0   \n",
       "1         44.0         25.0       1010.6       1007.8       0.0       0.0   \n",
       "2         38.0         30.0       1007.6       1008.7       0.0       2.0   \n",
       "3         45.0         16.0       1017.6       1012.8       0.0       0.0   \n",
       "4         82.0         33.0       1010.8       1006.0       7.0       8.0   \n",
       "\n",
       "   Temp9am  Temp3pm RainToday  RainTomorrow  \n",
       "0     16.9     21.8        No           0.0  \n",
       "1     17.2     24.3        No           0.0  \n",
       "2     21.0     23.2        No           0.0  \n",
       "3     18.1     26.5        No           0.0  \n",
       "4     17.8     29.7        No           0.0  "
      ]
     },
     "execution_count": 44,
     "metadata": {},
     "output_type": "execute_result"
    }
   ],
   "source": [
    "df = df.dropna(subset = ['RainToday'])\n",
    "df.fillna(0, inplace = True)\n",
    "df.head(5)"
   ]
  },
  {
   "cell_type": "code",
   "execution_count": 45,
   "id": "caf7840a",
   "metadata": {},
   "outputs": [
    {
     "data": {
      "text/plain": [
       "Location         0\n",
       "MinTemp          0\n",
       "MaxTemp          0\n",
       "Rainfall         0\n",
       "Evaporation      0\n",
       "Sunshine         0\n",
       "WindGustDir      0\n",
       "WindGustSpeed    0\n",
       "WindDir9am       0\n",
       "WindDir3pm       0\n",
       "WindSpeed9am     0\n",
       "WindSpeed3pm     0\n",
       "Humidity9am      0\n",
       "Humidity3pm      0\n",
       "Pressure9am      0\n",
       "Pressure3pm      0\n",
       "Cloud9am         0\n",
       "Cloud3pm         0\n",
       "Temp9am          0\n",
       "Temp3pm          0\n",
       "RainToday        0\n",
       "RainTomorrow     0\n",
       "dtype: int64"
      ]
     },
     "execution_count": 45,
     "metadata": {},
     "output_type": "execute_result"
    }
   ],
   "source": [
    "df.isnull().sum()"
   ]
  },
  {
   "cell_type": "code",
   "execution_count": 46,
   "id": "f4673bb7",
   "metadata": {},
   "outputs": [],
   "source": [
    "def set_directions(x):\n",
    "    if x == 'NNW' or x == 'N' or x == 'NNE':\n",
    "        return 'N'\n",
    "    elif x == 'ENE' or x == 'E' or x =='ESE':\n",
    "        return 'E'\n",
    "    elif x == 'SSE' or x == 'S' or x == 'SSW':\n",
    "        return 'S'\n",
    "    elif x == 'WSW' or x == 'W' or x == 'WNW':\n",
    "        return 'W'\n",
    "    elif x == 'NE':\n",
    "        return 'NE'\n",
    "    elif x == 'SE':\n",
    "        return 'SE'\n",
    "    elif x == 'SW':\n",
    "        return 'SW'\n",
    "    elif x == 'NW':\n",
    "        return 'NW'"
   ]
  },
  {
   "cell_type": "code",
   "execution_count": 47,
   "id": "41545433",
   "metadata": {},
   "outputs": [],
   "source": [
    "df['WindGustDir'] = df[\"WindGustDir\"].apply(set_directions)\n",
    "df['WindDir9am'] = df['WindDir9am'].apply(set_directions)\n",
    "df['WindDir3pm'] = df['WindDir3pm'].apply(set_directions)"
   ]
  },
  {
   "cell_type": "code",
   "execution_count": 48,
   "id": "4a7b61d5",
   "metadata": {},
   "outputs": [
    {
     "data": {
      "text/plain": [
       "array(['W', 'E', 'NW', 'S', 'N', 'SW', 'SE', None, 'NE'], dtype=object)"
      ]
     },
     "execution_count": 48,
     "metadata": {},
     "output_type": "execute_result"
    }
   ],
   "source": [
    "df.WindDir3pm.unique()"
   ]
  },
  {
   "cell_type": "code",
   "execution_count": 49,
   "id": "7deb477d",
   "metadata": {},
   "outputs": [
    {
     "data": {
      "image/png": "[encoded data removed]",
      "text/plain": [
       "<Figure size 1152x720 with 2 Axes>"
      ]
     },
     "metadata": {
      "needs_background": "light"
     },
     "output_type": "display_data"
    }
   ],
   "source": [
    "f, ax = plt.subplots(figsize=(16, 10))\n",
    "sns.heatmap(df.corr(), square=False, ax=ax, annot = True);"
   ]
  },
  {
   "cell_type": "code",
   "execution_count": 50,
   "id": "74021039",
   "metadata": {},
   "outputs": [
    {
     "data": {
      "text/plain": [
       "0.0    6261\n",
       "1.0    1924\n",
       "Name: RainTomorrow, dtype: int64"
      ]
     },
     "execution_count": 50,
     "metadata": {},
     "output_type": "execute_result"
    }
   ],
   "source": [
    "df = pd.get_dummies(df, columns = ['RainToday'])\n",
    "df = pd.get_dummies(df, columns = ['WindDir3pm'])\n",
    "df = pd.get_dummies(df, columns = ['WindDir9am', 'WindGustDir'])\n",
    "df = pd.get_dummies(df, columns = ['Location'])\n",
    "\n",
    "df['RainTomorrow'].value_counts()"
   ]
  },
  {
   "cell_type": "code",
   "execution_count": 51,
   "id": "d340b5ae",
   "metadata": {},
   "outputs": [
    {
     "name": "stdout",
     "output_type": "stream",
     "text": [
      "<class 'pandas.core.frame.DataFrame'>\n",
      "Int64Index: 8185 entries, 0 to 8424\n",
      "Data columns (total 55 columns):\n",
      " #   Column                 Non-Null Count  Dtype  \n",
      "---  ------                 --------------  -----  \n",
      " 0   MinTemp                8185 non-null   float64\n",
      " 1   MaxTemp                8185 non-null   float64\n",
      " 2   Rainfall               8185 non-null   float64\n",
      " 3   Evaporation            8185 non-null   float64\n",
      " 4   Sunshine               8185 non-null   float64\n",
      " 5   WindGustSpeed          8185 non-null   float64\n",
      " 6   WindSpeed9am           8185 non-null   float64\n",
      " 7   WindSpeed3pm           8185 non-null   float64\n",
      " 8   Humidity9am            8185 non-null   float64\n",
      " 9   Humidity3pm            8185 non-null   float64\n",
      " 10  Pressure9am            8185 non-null   float64\n",
      " 11  Pressure3pm            8185 non-null   float64\n",
      " 12  Cloud9am               8185 non-null   float64\n",
      " 13  Cloud3pm               8185 non-null   float64\n",
      " 14  Temp9am                8185 non-null   float64\n",
      " 15  Temp3pm                8185 non-null   float64\n",
      " 16  RainTomorrow           8185 non-null   float64\n",
      " 17  RainToday_No           8185 non-null   uint8  \n",
      " 18  RainToday_Yes          8185 non-null   uint8  \n",
      " 19  WindDir3pm_E           8185 non-null   uint8  \n",
      " 20  WindDir3pm_N           8185 non-null   uint8  \n",
      " 21  WindDir3pm_NE          8185 non-null   uint8  \n",
      " 22  WindDir3pm_NW          8185 non-null   uint8  \n",
      " 23  WindDir3pm_S           8185 non-null   uint8  \n",
      " 24  WindDir3pm_SE          8185 non-null   uint8  \n",
      " 25  WindDir3pm_SW          8185 non-null   uint8  \n",
      " 26  WindDir3pm_W           8185 non-null   uint8  \n",
      " 27  WindDir9am_E           8185 non-null   uint8  \n",
      " 28  WindDir9am_N           8185 non-null   uint8  \n",
      " 29  WindDir9am_NE          8185 non-null   uint8  \n",
      " 30  WindDir9am_NW          8185 non-null   uint8  \n",
      " 31  WindDir9am_S           8185 non-null   uint8  \n",
      " 32  WindDir9am_SE          8185 non-null   uint8  \n",
      " 33  WindDir9am_SW          8185 non-null   uint8  \n",
      " 34  WindDir9am_W           8185 non-null   uint8  \n",
      " 35  WindGustDir_E          8185 non-null   uint8  \n",
      " 36  WindGustDir_N          8185 non-null   uint8  \n",
      " 37  WindGustDir_NE         8185 non-null   uint8  \n",
      " 38  WindGustDir_NW         8185 non-null   uint8  \n",
      " 39  WindGustDir_S          8185 non-null   uint8  \n",
      " 40  WindGustDir_SE         8185 non-null   uint8  \n",
      " 41  WindGustDir_SW         8185 non-null   uint8  \n",
      " 42  WindGustDir_W          8185 non-null   uint8  \n",
      " 43  Location_Adelaide      8185 non-null   uint8  \n",
      " 44  Location_Albury        8185 non-null   uint8  \n",
      " 45  Location_Brisbane      8185 non-null   uint8  \n",
      " 46  Location_CoffsHarbour  8185 non-null   uint8  \n",
      " 47  Location_Darwin        8185 non-null   uint8  \n",
      " 48  Location_Melbourne     8185 non-null   uint8  \n",
      " 49  Location_Newcastle     8185 non-null   uint8  \n",
      " 50  Location_Penrith       8185 non-null   uint8  \n",
      " 51  Location_PerthAirport  8185 non-null   uint8  \n",
      " 52  Location_Uluru         8185 non-null   uint8  \n",
      " 53  Location_Williamtown   8185 non-null   uint8  \n",
      " 54  Location_Wollongong    8185 non-null   uint8  \n",
      "dtypes: float64(17), uint8(38)\n",
      "memory usage: 1.4 MB\n"
     ]
    }
   ],
   "source": [
    "df.info()"
   ]
  },
  {
   "cell_type": "code",
   "execution_count": 52,
   "id": "7d634c4c",
   "metadata": {},
   "outputs": [
    {
     "data": {
      "image/png": "[encoded data removed]",
      "text/plain": [
       "<Figure size 432x288 with 1 Axes>"
      ]
     },
     "metadata": {
      "needs_background": "light"
     },
     "output_type": "display_data"
    }
   ],
   "source": [
    "sns.countplot(x = 'RainTomorrow', data = df, palette = 'hls')\n",
    "plt.show()"
   ]
  },
  {
   "cell_type": "code",
   "execution_count": 53,
   "id": "186d9f12",
   "metadata": {},
   "outputs": [
    {
     "name": "stdout",
     "output_type": "stream",
     "text": [
      "Percentage of Rain Tomorrow: 23.50641417226634\n",
      "Percentage of not Raining Tomorrow: 76.49358582773365\n"
     ]
    }
   ],
   "source": [
    "count_rainTomorrow = len(df[df['RainTomorrow'] == 1])\n",
    "count_notRainTomorrow = len(df[df['RainTomorrow'] == 0])\n",
    "percent_rainTomorrow = count_rainTomorrow / (count_rainTomorrow + count_notRainTomorrow)\n",
    "percent_notRainTomorrow = count_notRainTomorrow / (count_rainTomorrow + count_notRainTomorrow)\n",
    "print(\"Percentage of Rain Tomorrow:\", percent_rainTomorrow*100)\n",
    "print(\"Percentage of not Raining Tomorrow:\", percent_notRainTomorrow*100)"
   ]
  },
  {
   "cell_type": "code",
   "execution_count": 54,
   "id": "e7ff74ad",
   "metadata": {},
   "outputs": [],
   "source": [
    "x = df.drop(['RainTomorrow'], axis = 1)\n",
    "y = df.RainTomorrow\n",
    "\n",
    "x_train, x_test, y_train, y_test = train_test_split(x, y, test_size = 0.3, random_state = 0)"
   ]
  },
  {
   "cell_type": "code",
   "execution_count": 55,
   "id": "f3fe2650",
   "metadata": {},
   "outputs": [
    {
     "data": {
      "text/plain": [
       "LogisticRegression()"
      ]
     },
     "execution_count": 55,
     "metadata": {},
     "output_type": "execute_result"
    }
   ],
   "source": [
    "logit_model = LogisticRegression()\n",
    "logit_model.fit(x_train, y_train)\n"
   ]
  },
  {
   "cell_type": "code",
   "execution_count": 56,
   "id": "f264d932",
   "metadata": {},
   "outputs": [],
   "source": [
    "Predictions = logit_model.predict(x_test)"
   ]
  },
  {
   "cell_type": "code",
   "execution_count": 57,
   "id": "7d01ee86",
   "metadata": {},
   "outputs": [
    {
     "name": "stdout",
     "output_type": "stream",
     "text": [
      "              precision    recall  f1-score   support\n",
      "\n",
      "         0.0       0.85      0.93      0.89      1887\n",
      "         1.0       0.65      0.46      0.54       569\n",
      "\n",
      "    accuracy                           0.82      2456\n",
      "   macro avg       0.75      0.69      0.71      2456\n",
      "weighted avg       0.80      0.82      0.81      2456\n",
      "\n"
     ]
    }
   ],
   "source": [
    "print(classification_report(y_test, Predictions))"
   ]
  },
  {
   "cell_type": "code",
   "execution_count": 58,
   "id": "8a41ebde",
   "metadata": {},
   "outputs": [
    {
     "name": "stdout",
     "output_type": "stream",
     "text": [
      "[[1747  140]\n",
      " [ 309  260]]\n"
     ]
    }
   ],
   "source": [
    "#Confusion Matrix\n",
    "print(confusion_matrix(y_test, Predictions))"
   ]
  },
  {
   "cell_type": "code",
   "execution_count": 59,
   "id": "dc66bb75",
   "metadata": {},
   "outputs": [
    {
     "data": {
      "image/png": "[encoded data removed]",
      "text/plain": [
       "<Figure size 432x288 with 2 Axes>"
      ]
     },
     "metadata": {
      "needs_background": "light"
     },
     "output_type": "display_data"
    }
   ],
   "source": [
    "sns.heatmap(confusion_matrix(y_test, Predictions), annot=True, fmt=\"d\")\n",
    "plt.show()"
   ]
  },
  {
   "cell_type": "code",
   "execution_count": 60,
   "id": "721f9af1",
   "metadata": {},
   "outputs": [
    {
     "name": "stdout",
     "output_type": "stream",
     "text": [
      "Accuracy: 83.52426927972716\n",
      "Error: 16.475730720272836\n"
     ]
    }
   ],
   "source": [
    "TP = 31029\n",
    "TN = 3748\n",
    "FP = 1765\n",
    "FN = 5095\n",
    "\n",
    "#Accuracy\n",
    "#Accuracy = (TP + TN)/Total\n",
    "\n",
    "Accuracy = (TP + TN)/(TP+TN+FP+FN)\n",
    "\n",
    "#Error Rate\n",
    "#ErrorRate = (FP+FN)/Total\n",
    "\n",
    "Error = (FP + FN)/(TP+TN+FP+FN)\n",
    "\n",
    "print(\"Accuracy:\", Accuracy*100)\n",
    "print(\"Error:\", Error*100)\n"
   ]
  },
  {
   "cell_type": "code",
   "execution_count": 61,
   "id": "6c88a560",
   "metadata": {},
   "outputs": [],
   "source": [
    "# Random forest\n",
    "\n",
    "clf_rf = RandomForestClassifier(random_state=23)      \n",
    "clr_rf = clf_rf.fit(x_train,y_train)"
   ]
  },
  {
   "cell_type": "code",
   "execution_count": 62,
   "id": "e74d1ec7",
   "metadata": {},
   "outputs": [
    {
     "name": "stdout",
     "output_type": "stream",
     "text": [
      "Accuracy:  0.886400651465798\n"
     ]
    }
   ],
   "source": [
    "y_predict = clf_rf.predict(x_test)\n",
    "accuracy = accuracy_score(y_test, y_predict )\n",
    "print('Accuracy: ', accuracy)"
   ]
  },
  {
   "cell_type": "code",
   "execution_count": 63,
   "id": "69ca6f04",
   "metadata": {},
   "outputs": [
    {
     "data": {
      "image/png": "[encoded data removed]",
      "text/plain": [
       "<Figure size 432x288 with 2 Axes>"
      ]
     },
     "metadata": {
      "needs_background": "light"
     },
     "output_type": "display_data"
    }
   ],
   "source": [
    "sns.heatmap(confusion_matrix(y_test, y_predict), annot=True, fmt=\"d\")\n",
    "plt.show()"
   ]
  },
  {
   "cell_type": "code",
   "execution_count": 64,
   "id": "757295d7",
   "metadata": {},
   "outputs": [
    {
     "name": "stdout",
     "output_type": "stream",
     "text": [
      "Accuracy: 85.55295120392074\n",
      "Error: 14.447048796079267\n"
     ]
    }
   ],
   "source": [
    "TP = 31445\n",
    "TN = 4690\n",
    "FP = 1349\n",
    "FN = 4753\n",
    "\n",
    "#Accuracy\n",
    "#Accuracy = (TP + TN)/Total\n",
    "\n",
    "Accuracy = (TP + TN)/(TP+TN+FP+FN)\n",
    "\n",
    "#Error Rate\n",
    "#ErrorRate = (FP+FN)/Total\n",
    "\n",
    "Error = (FP + FN)/(TP+TN+FP+FN)\n",
    "\n",
    "print(\"Accuracy:\", Accuracy*100)\n",
    "print(\"Error:\", Error*100)"
   ]
  },
  {
   "cell_type": "code",
   "execution_count": null,
   "id": "171c4dd1",
   "metadata": {},
   "outputs": [],
   "source": []
  }
 ],
 "metadata": {
  "kernelspec": {
   "display_name": "Python 3",
   "language": "python",
   "name": "python3"
  },
  "language_info": {
   "codemirror_mode": {
    "name": "ipython",
    "version": 3
   },
   "file_extension": ".py",
   "mimetype": "text/x-python",
   "name": "python",
   "nbconvert_exporter": "python",
   "pygments_lexer": "ipython3",
   "version": "3.8.8"
  }
 },
 "nbformat": 4,
 "nbformat_minor": 5
}
